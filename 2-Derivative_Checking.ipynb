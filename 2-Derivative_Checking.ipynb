{
  "cells": [
    {
      "cell_type": "code",
      "execution_count": 1,
      "metadata": {
        "colab": {
          "base_uri": "https://localhost:8080/"
        },
        "id": "Xt5MQqEP2oC9",
        "outputId": "365d2970-c4eb-4a98-f2db-6b1a7ad026cb"
      },
      "outputs": [
        {
          "name": "stdout",
          "output_type": "stream",
          "text": [
            "Estimate: 10.00000082740371\n",
            "True: 10\n"
          ]
        }
      ],
      "source": [
        "# f(x) = x^2\n",
        "# f'(x) = 2x\n",
        "# evaluate at x = 5\n",
        "h = 1e-10\n",
        "x = 5\n",
        "print(\"Estimate:\", ((x + h)**2 - x**2) / h)\n",
        "print(\"True:\", 2*x)"
      ]
    },
    {
      "cell_type": "code",
      "execution_count": 2,
      "metadata": {
        "colab": {
          "base_uri": "https://localhost:8080/"
        },
        "id": "HkoA-E-K25z0",
        "outputId": "1395b7f6-f96a-456e-f047-f51731f3847f"
      },
      "outputs": [
        {
          "name": "stdout",
          "output_type": "stream",
          "text": [
            "Estimate: 12.000000992884452\n",
            "True: 12\n"
          ]
        }
      ],
      "source": [
        "# f(x) = x^3\n",
        "# f'(x) = 3x^2\n",
        "# evaluate at x = 2\n",
        "h = 1e-10\n",
        "x = 2\n",
        "print(\"Estimate:\", ((x + h)**3 - x**3) / h)\n",
        "print(\"True:\", 3 * x**2)"
      ]
    },
    {
      "cell_type": "code",
      "execution_count": 3,
      "metadata": {
        "colab": {
          "base_uri": "https://localhost:8080/"
        },
        "id": "BXbO_zvx3RtU",
        "outputId": "beffaf2b-93a7-43bf-ce48-bb1d405bff43"
      },
      "outputs": [
        {
          "name": "stdout",
          "output_type": "stream",
          "text": [
            "Estimate: -1.000000082740371\n",
            "True: -1.0\n"
          ]
        }
      ],
      "source": [
        "# f(x) = 1 / x\n",
        "# f'(x) = -1 / x^2\n",
        "# evaluate at x = 1\n",
        "h = 1e-10\n",
        "x = 1\n",
        "print(\"Estimate:\", (1 / (x + h) - 1 / x) / h)\n",
        "print(\"True:\", -1 / x**2)"
      ]
    },
    {
      "cell_type": "code",
      "execution_count": 4,
      "metadata": {
        "colab": {
          "base_uri": "https://localhost:8080/"
        },
        "id": "sQiqM8Gv3isf",
        "outputId": "6b20b2c5-86ca-4b44-ed8c-8c116ed4a723"
      },
      "outputs": [
        {
          "name": "stdout",
          "output_type": "stream",
          "text": [
            "Estimate: 0.2886757499709347\n",
            "True: 0.2886751345948129\n"
          ]
        }
      ],
      "source": [
        "import math\n",
        "# f(x) = sqrt(x)\n",
        "# f'(x) = 0.5 / sqrt(x)\n",
        "# evaluate at x = 3\n",
        "h = 1e-10\n",
        "x = 3\n",
        "print(\"Estimate:\", (math.sqrt(x + h) - math.sqrt(x)) / h)\n",
        "print(\"True:\", 0.5 / math.sqrt(x))"
      ]
    },
    {
      "cell_type": "code",
      "execution_count": null,
      "metadata": {
        "id": "fHoNZUfT3yX5"
      },
      "outputs": [],
      "source": [
        "# Exercise: try the 2-sided method"
      ]
    },
    {
      "cell_type": "code",
      "execution_count": 6,
      "metadata": {
        "id": "S0acXBWCxiJL"
      },
      "outputs": [
        {
          "name": "stdout",
          "output_type": "stream",
          "text": [
            "1-Sided-Estimate: 10.00000082740371\n",
            "2-Sided-Estimate: 10.00000082740371\n",
            "True: 10\n"
          ]
        }
      ],
      "source": [
        "# f(x) = x^2\n",
        "# f'(x) = 2x\n",
        "# evaluate at x = 5\n",
        "h = 1e-10\n",
        "x = 5\n",
        "print(\"1-Sided-Estimate:\", ((x + h)**2 - x**2) / h)\n",
        "print(\"2-Sided-Estimate:\", ((x + h)**2 - (x-h)**2) / (2*h))\n",
        "print(\"True:\", 2*x)"
      ]
    },
    {
      "cell_type": "code",
      "execution_count": 7,
      "metadata": {
        "id": "oaG3igwFxiQU"
      },
      "outputs": [
        {
          "name": "stdout",
          "output_type": "stream",
          "text": [
            "1-Sided-Estimate: 12.000000992884452\n",
            "2-Sided-Estimate: 12.000000992884452\n",
            "True: 12\n"
          ]
        }
      ],
      "source": [
        "# f(x) = x^3\n",
        "# f'(x) = 3x^2\n",
        "# evaluate at x = 2\n",
        "h = 1e-10\n",
        "x = 2\n",
        "print(\"1-Sided-Estimate:\", ((x + h)**3 - x**3) / h)\n",
        "print(\"2-Sided-Estimate:\", ((x + h)**3 - (x-h)**3) / (2*h))\n",
        "print(\"True:\", 3 * x**2)"
      ]
    },
    {
      "cell_type": "code",
      "execution_count": 8,
      "metadata": {
        "id": "PzQJleyoxiWi"
      },
      "outputs": [
        {
          "name": "stdout",
          "output_type": "stream",
          "text": [
            "1-Sided-Estimate: -1.000000082740371\n",
            "2-Sided-Estimate: -1.000000082740371\n",
            "True: -1.0\n"
          ]
        }
      ],
      "source": [
        "# f(x) = 1 / x\n",
        "# f'(x) = -1 / x^2\n",
        "# evaluate at x = 1\n",
        "h = 1e-10\n",
        "x = 1\n",
        "print(\"1-Sided-Estimate:\", (1 / (x + h) - 1 / x) / h)\n",
        "print(\"2-Sided-Estimate:\", (1 / (x + h) - 1 / (x-h)) / (2*h))\n",
        "print(\"True:\", -1 / x**2)"
      ]
    },
    {
      "cell_type": "code",
      "execution_count": 9,
      "metadata": {},
      "outputs": [
        {
          "name": "stdout",
          "output_type": "stream",
          "text": [
            "1-Sided-Estimate: 0.2886757499709347\n",
            "2-Sided-Estimate: 0.2886746397479101\n",
            "True: 0.2886751345948129\n"
          ]
        }
      ],
      "source": [
        "# f(x) = sqrt(x)\n",
        "# f'(x) = 0.5 / sqrt(x)\n",
        "# evaluate at x = 3\n",
        "h = 1e-10\n",
        "x = 3\n",
        "print(\"1-Sided-Estimate:\", (math.sqrt(x + h) - math.sqrt(x)) / h)\n",
        "print(\"2-Sided-Estimate:\", (math.sqrt(x + h) - math.sqrt(x-h)) / (2*h))\n",
        "print(\"True:\", 0.5 / math.sqrt(x))"
      ]
    },
    {
      "cell_type": "markdown",
      "metadata": {
        "id": "PFJd4PmsxjKb"
      },
      "source": [
        "![](https://deeplearningcourses.com/notebooks_v3_pxl?sc=vXAH8yB5whcTArSYYyaHkg&n=Derivative+Checking)"
      ]
    }
  ],
  "metadata": {
    "colab": {
      "provenance": []
    },
    "kernelspec": {
      "display_name": "Python 3",
      "name": "python3"
    },
    "language_info": {
      "codemirror_mode": {
        "name": "ipython",
        "version": 3
      },
      "file_extension": ".py",
      "mimetype": "text/x-python",
      "name": "python",
      "nbconvert_exporter": "python",
      "pygments_lexer": "ipython3",
      "version": "3.7.7"
    },
    "sc": "vXAH8yB5whcTArSYYyaHkg"
  },
  "nbformat": 4,
  "nbformat_minor": 0
}
