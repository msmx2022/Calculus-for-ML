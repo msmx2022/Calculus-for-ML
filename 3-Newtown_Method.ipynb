{
 "cells": [
  {
   "cell_type": "code",
   "execution_count": 1,
   "metadata": {},
   "outputs": [],
   "source": [
    "import numpy as np\n",
    "import matplotlib.pyplot as plt"
   ]
  },
  {
   "cell_type": "code",
   "execution_count": 2,
   "metadata": {},
   "outputs": [],
   "source": [
    "x = np.linspace(-2,2,100)\n",
    "y = -0.5*9.8*x**2 + 2*x +1"
   ]
  },
  {
   "cell_type": "code",
   "execution_count": 5,
   "metadata": {},
   "outputs": [
    {
     "data": {
      "text/plain": [
       "[<matplotlib.lines.Line2D at 0x233a9f74f88>]"
      ]
     },
     "execution_count": 5,
     "metadata": {},
     "output_type": "execute_result"
    },
    {
     "data": {
      "image/png": "[encoded data removed]",
      "text/plain": [
       "<Figure size 432x288 with 1 Axes>"
      ]
     },
     "metadata": {
      "needs_background": "light"
     },
     "output_type": "display_data"
    }
   ],
   "source": [
    "plt.axhline(y=0, color='k')\n",
    "plt.axvline(x=0, color='k')\n",
    "plt.grid()\n",
    "plt.plot(x,y)"
   ]
  },
  {
   "cell_type": "code",
   "execution_count": 19,
   "metadata": {},
   "outputs": [],
   "source": [
    "# find x where f(x) = 0\n",
    "\n",
    "def newtown_method(x_initial):\n",
    "\n",
    "\n",
    "    #1-initial guess\n",
    "    x_old = x_initial\n",
    "\n",
    "    #2-derivative at point x\n",
    "    def y_prime(x):\n",
    "        return -0.5*9.8*2*x_old + 2\n",
    "\n",
    "    #3-use x_old to calculate y_old\n",
    "    def y_old(x):\n",
    "        return -0.5*9.8*x**2 + 2*x +1\n",
    "\n",
    "    #4-loop to find a better x\n",
    "    while True:\n",
    "        print('continue')\n",
    "        x_new = x_old - y_old(x_old)/(y_prime(x_old))\n",
    "        \n",
    "        if np.abs(x_new - x_old) <= 1e-10:\n",
    "            break\n",
    "        \n",
    "        x_old = x_new\n",
    "\n",
    "    #5-print the final answer\n",
    "    print(\"answer\",x_new)\n",
    "    return x_new"
   ]
  },
  {
   "cell_type": "code",
   "execution_count": 20,
   "metadata": {},
   "outputs": [
    {
     "name": "stdout",
     "output_type": "stream",
     "text": [
      "continue\n",
      "continue\n",
      "continue\n",
      "continue\n",
      "continue\n",
      "continue\n",
      "answer -0.2916309306731069\n"
     ]
    },
    {
     "data": {
      "text/plain": [
       "-0.2916309306731069"
      ]
     },
     "execution_count": 20,
     "metadata": {},
     "output_type": "execute_result"
    }
   ],
   "source": [
    "# find x from left side\n",
    "newtown_method(-1)"
   ]
  },
  {
   "cell_type": "code",
   "execution_count": 21,
   "metadata": {},
   "outputs": [
    {
     "name": "stdout",
     "output_type": "stream",
     "text": [
      "continue\n",
      "continue\n",
      "continue\n",
      "continue\n",
      "continue\n",
      "answer 0.6997941959792293\n"
     ]
    },
    {
     "data": {
      "text/plain": [
       "0.6997941959792293"
      ]
     },
     "execution_count": 21,
     "metadata": {},
     "output_type": "execute_result"
    }
   ],
   "source": [
    "# find x from right side\n",
    "newtown_method(1)"
   ]
  },
  {
   "cell_type": "code",
   "execution_count": 23,
   "metadata": {},
   "outputs": [
    {
     "name": "stdout",
     "output_type": "stream",
     "text": [
      "continue\n",
      "continue\n",
      "continue\n",
      "continue\n",
      "continue\n",
      "continue\n",
      "answer -0.2916309306731069\n",
      "newtown 1 :  -0.2916309306731069\n",
      "true_answer 1 :  -0.29163093067310686\n",
      "continue\n",
      "continue\n",
      "continue\n",
      "continue\n",
      "continue\n",
      "answer 0.6997941959792293\n",
      "newtown 2 :  0.6997941959792293\n",
      "true_answer 2 :  0.6997941959792293\n"
     ]
    }
   ],
   "source": [
    "# check the answers\n",
    "\n",
    "a = -0.5*9.8\n",
    "b = 2\n",
    "c = 1\n",
    "\n",
    "discriminant = b**2 -4*a*c\n",
    "true_answer1 = (-b + np.sqrt(discriminant))/(2*a)\n",
    "true_answer2 = (-b - np.sqrt(discriminant))/(2*a)\n",
    "\n",
    "print('newtown 1 : ',newtown_method(-1))\n",
    "print('true_answer 1 : ',true_answer1)\n",
    "print('newtown 2 : ',newtown_method(1))\n",
    "print('true_answer 2 : ',true_answer2)"
   ]
  },
  {
   "cell_type": "code",
   "execution_count": 24,
   "metadata": {},
   "outputs": [],
   "source": [
    "# find x where f'(x) = 0\n",
    "\n",
    "def newtown_method_prime(x_initial):\n",
    "\n",
    "\n",
    "    #1-initial guess\n",
    "    x_old = x_initial\n",
    "\n",
    "    #2-derivative two times at point x\n",
    "    def y_prime2(x):\n",
    "        return -0.5*9.8*2\n",
    "\n",
    "    #3-use x_old to calculate y_prime\n",
    "    def y_prime(x):\n",
    "        return -0.5*9.8*2*x + 2\n",
    "\n",
    "    #4-loop to find a better x\n",
    "    while True:\n",
    "        print('continue')\n",
    "        x_new = x_old - y_prime(x_old)/(y_prime2(x_old))\n",
    "        \n",
    "        if np.abs(x_new - x_old) <= 1e-10:\n",
    "            break\n",
    "        \n",
    "        x_old = x_new\n",
    "\n",
    "    #5-print the final answer\n",
    "    print(\"answer\",x_new)\n",
    "    return x_new"
   ]
  },
  {
   "cell_type": "code",
   "execution_count": 27,
   "metadata": {},
   "outputs": [
    {
     "name": "stdout",
     "output_type": "stream",
     "text": [
      "continue\n",
      "continue\n",
      "answer 0.20408163265306123\n"
     ]
    }
   ],
   "source": [
    "x_star = newtown_method_prime(-1)"
   ]
  },
  {
   "cell_type": "code",
   "execution_count": 29,
   "metadata": {},
   "outputs": [],
   "source": [
    "y_star = -0.5*9.8*x_star**2 + 2*x_star +1"
   ]
  },
  {
   "cell_type": "code",
   "execution_count": 31,
   "metadata": {},
   "outputs": [
    {
     "data": {
      "text/plain": [
       "[<matplotlib.lines.Line2D at 0x233aa0d3a88>]"
      ]
     },
     "execution_count": 31,
     "metadata": {},
     "output_type": "execute_result"
    },
    {
     "data": {
      "image/png": "[encoded data removed]",
      "text/plain": [
       "<Figure size 432x288 with 1 Axes>"
      ]
     },
     "metadata": {
      "needs_background": "light"
     },
     "output_type": "display_data"
    }
   ],
   "source": [
    "plt.axhline(y=0, color='k')\n",
    "plt.axvline(x=0, color='k')\n",
    "plt.grid()\n",
    "plt.scatter(x_star,y_star,color='red')\n",
    "plt.plot(x,y)"
   ]
  },
  {
   "cell_type": "code",
   "execution_count": null,
   "metadata": {},
   "outputs": [],
   "source": []
  }
 ],
 "metadata": {
  "kernelspec": {
   "display_name": "base",
   "language": "python",
   "name": "python3"
  },
  "language_info": {
   "codemirror_mode": {
    "name": "ipython",
    "version": 3
   },
   "file_extension": ".py",
   "mimetype": "text/x-python",
   "name": "python",
   "nbconvert_exporter": "python",
   "pygments_lexer": "ipython3",
   "version": "3.7.7"
  }
 },
 "nbformat": 4,
 "nbformat_minor": 2
}
